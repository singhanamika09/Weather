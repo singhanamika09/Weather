{
 "cells": [
  {
   "cell_type": "code",
   "execution_count": 1,
   "id": "dc80bf02",
   "metadata": {},
   "outputs": [],
   "source": [
    "from tkinter import*\n",
    "import requests\n",
    "import json\n",
    "from datetime import datetime\n",
    "\n",
    "root =Tk()\n",
    "root.geometry(\"800x800\") #size of the window by default\n",
    "root.resizable(400,400) \n",
    "root.title(\"WEATHER APP-\")\n",
    "\n",
    "def time_format_for_location(utc):\n",
    "    local_time = datetime.utcfromtimestamp(utc)\n",
    "    return local_time.time()\n",
    "\n",
    "city_value = StringVar()\n",
    "\n",
    "def showWeather():\n",
    "    api_key = \"b7008db7ca79c5a4d817b73bae83e694\"\n",
    "    city_name=city_value.get()\n",
    "    weather_url = (f'https://api.openweathermap.org/data/2.5/weather?q={city_name}&appid={api_key}')\n",
    "    response = requests.get(weather_url) \n",
    "    weather_info = response.json() # changing response from json to python readable\n",
    "    tfield.delete('1.0', 'end')   #to clear the text field for every new output\n",
    "\n",
    "#as per API documentation, if the cod is 200, it means that weather data was successfully fetched\n",
    "    if weather_info['cod'] == 200:\n",
    "        kelvin = 273 # value of kelvin\n",
    "        temp = int(weather_info['main']['temp'] - kelvin)                                     #converting default kelvin value to Celcius\n",
    "        feels_like_temp = int(weather_info['main']['feels_like'] - kelvin)\n",
    "        pressure = weather_info['main']['pressure']\n",
    "        humidity = weather_info['main']['humidity']\n",
    "        wind_speed = weather_info['wind']['speed'] * 3.6\n",
    "        sunrise = weather_info['sys']['sunrise']\n",
    "        sunset = weather_info['sys']['sunset']\n",
    "        timezone = weather_info['timezone']\n",
    "        cloudy = weather_info['clouds']['all']\n",
    "        description = weather_info['weather'][0]['description']\n",
    "\n",
    "        sunrise_time = time_format_for_location(sunrise + timezone)\n",
    "        sunset_time = time_format_for_location(sunset + timezone)\n",
    "        \n",
    "        weather = f\"\\nWeather of: {city_name}\\nTemperature (Celsius): {temp}°\\nFeels like in (Celsius): {feels_like_temp}°\\nWindspeed: {wind_speed}\\nPressure: {pressure} hPa\\nHumidity: {humidity}%\\nSunrise at {sunrise_time} and Sunset at {sunset_time}\\nCloud: {cloudy}%\\nInfo: {description}\"\n",
    "    else:\n",
    "        weather = f\"\\n\\tWeather for '{city_name}' not found!\\n\\tKindly Enter valid City Name !!\"\n",
    "\n",
    "    tfield.insert(INSERT, weather)   #to insert or send value in our Text Field to display output\n",
    "\n",
    "\n",
    "city_head= Label(root, text = 'Enter City Name', font = 'Arial 12 bold').pack(pady=10)\n",
    "inp_city = Entry(root, textvariable = city_value,  width = 24, font='Arial 14 bold').pack()\n",
    "Button(root, command = showWeather, text = \"Check Weather\", font=\"Arial 10\", bg='lightblue', fg='black', activebackground=\"teal\", padx=5, pady=5 ).pack(pady= 20)\n",
    "weather_now = Label(root, text = \"The Weather is:\", font = 'arial 12 bold').pack(pady=10)\n",
    "tfield = Text(root, width=46, height=10)\n",
    "tfield.pack()\n",
    "\n",
    "root.mainloop()"
   ]
  },
  {
   "cell_type": "code",
   "execution_count": null,
   "id": "9877c779",
   "metadata": {},
   "outputs": [],
   "source": []
  }
 ],
 "metadata": {
  "kernelspec": {
   "display_name": "Python 3 (ipykernel)",
   "language": "python",
   "name": "python3"
  },
  "language_info": {
   "codemirror_mode": {
    "name": "ipython",
    "version": 3
   },
   "file_extension": ".py",
   "mimetype": "text/x-python",
   "name": "python",
   "nbconvert_exporter": "python",
   "pygments_lexer": "ipython3",
   "version": "3.10.9"
  }
 },
 "nbformat": 4,
 "nbformat_minor": 5
}
